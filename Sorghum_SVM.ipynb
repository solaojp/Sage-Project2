{
 "cells": [
  {
   "cell_type": "code",
   "execution_count": 1,
   "metadata": {},
   "outputs": [],
   "source": [
    "import numpy as np\n",
    "import pandas as pd\n",
    "import matplotlib.pyplot as plt\n",
    "from sklearn.linear_model import LogisticRegression\n",
    "from sklearn import metrics\n",
    "from sklearn.model_selection import cross_val_score\n",
    "from sklearn.svm import SVC"
   ]
  },
  {
   "cell_type": "code",
   "execution_count": 2,
   "metadata": {},
   "outputs": [
    {
     "name": "stdout",
     "output_type": "stream",
     "text": [
      "(1200, 332)\n"
     ]
    },
    {
     "data": {
      "text/html": [
       "<div>\n",
       "<style scoped>\n",
       "    .dataframe tbody tr th:only-of-type {\n",
       "        vertical-align: middle;\n",
       "    }\n",
       "\n",
       "    .dataframe tbody tr th {\n",
       "        vertical-align: top;\n",
       "    }\n",
       "\n",
       "    .dataframe thead th {\n",
       "        text-align: right;\n",
       "    }\n",
       "</style>\n",
       "<table border=\"1\" class=\"dataframe\">\n",
       "  <thead>\n",
       "    <tr style=\"text-align: right;\">\n",
       "      <th></th>\n",
       "      <th>740</th>\n",
       "      <th>741</th>\n",
       "      <th>742</th>\n",
       "      <th>743</th>\n",
       "      <th>744</th>\n",
       "      <th>745</th>\n",
       "      <th>746</th>\n",
       "      <th>747</th>\n",
       "      <th>748</th>\n",
       "      <th>749</th>\n",
       "      <th>...</th>\n",
       "      <th>1061</th>\n",
       "      <th>1062</th>\n",
       "      <th>1063</th>\n",
       "      <th>1064</th>\n",
       "      <th>1065</th>\n",
       "      <th>1066</th>\n",
       "      <th>1067</th>\n",
       "      <th>1068</th>\n",
       "      <th>1069</th>\n",
       "      <th>1070</th>\n",
       "    </tr>\n",
       "  </thead>\n",
       "  <tbody>\n",
       "    <tr>\n",
       "      <th>count</th>\n",
       "      <td>500.000000</td>\n",
       "      <td>500.000000</td>\n",
       "      <td>500.000000</td>\n",
       "      <td>500.000000</td>\n",
       "      <td>500.000000</td>\n",
       "      <td>500.000000</td>\n",
       "      <td>500.000000</td>\n",
       "      <td>500.000000</td>\n",
       "      <td>500.000000</td>\n",
       "      <td>500.000000</td>\n",
       "      <td>...</td>\n",
       "      <td>500.000000</td>\n",
       "      <td>500.000000</td>\n",
       "      <td>500.000000</td>\n",
       "      <td>500.000000</td>\n",
       "      <td>500.000000</td>\n",
       "      <td>500.000000</td>\n",
       "      <td>500.000000</td>\n",
       "      <td>500.000000</td>\n",
       "      <td>500.000000</td>\n",
       "      <td>500.000000</td>\n",
       "    </tr>\n",
       "    <tr>\n",
       "      <th>mean</th>\n",
       "      <td>1.615311</td>\n",
       "      <td>1.615358</td>\n",
       "      <td>1.615364</td>\n",
       "      <td>1.615469</td>\n",
       "      <td>1.615742</td>\n",
       "      <td>1.616217</td>\n",
       "      <td>1.616822</td>\n",
       "      <td>1.617500</td>\n",
       "      <td>1.618164</td>\n",
       "      <td>1.618746</td>\n",
       "      <td>...</td>\n",
       "      <td>1.732780</td>\n",
       "      <td>1.732817</td>\n",
       "      <td>1.731917</td>\n",
       "      <td>1.730594</td>\n",
       "      <td>1.729484</td>\n",
       "      <td>1.728516</td>\n",
       "      <td>1.728721</td>\n",
       "      <td>1.729712</td>\n",
       "      <td>1.730910</td>\n",
       "      <td>1.731593</td>\n",
       "    </tr>\n",
       "    <tr>\n",
       "      <th>std</th>\n",
       "      <td>0.068293</td>\n",
       "      <td>0.068294</td>\n",
       "      <td>0.068297</td>\n",
       "      <td>0.068287</td>\n",
       "      <td>0.068257</td>\n",
       "      <td>0.068204</td>\n",
       "      <td>0.068142</td>\n",
       "      <td>0.068082</td>\n",
       "      <td>0.068033</td>\n",
       "      <td>0.067994</td>\n",
       "      <td>...</td>\n",
       "      <td>0.053045</td>\n",
       "      <td>0.053228</td>\n",
       "      <td>0.053172</td>\n",
       "      <td>0.052946</td>\n",
       "      <td>0.052725</td>\n",
       "      <td>0.052490</td>\n",
       "      <td>0.052609</td>\n",
       "      <td>0.053086</td>\n",
       "      <td>0.053788</td>\n",
       "      <td>0.054312</td>\n",
       "    </tr>\n",
       "    <tr>\n",
       "      <th>min</th>\n",
       "      <td>1.468954</td>\n",
       "      <td>1.469210</td>\n",
       "      <td>1.469254</td>\n",
       "      <td>1.469459</td>\n",
       "      <td>1.469966</td>\n",
       "      <td>1.470832</td>\n",
       "      <td>1.471834</td>\n",
       "      <td>1.472807</td>\n",
       "      <td>1.473594</td>\n",
       "      <td>1.474135</td>\n",
       "      <td>...</td>\n",
       "      <td>1.621015</td>\n",
       "      <td>1.620887</td>\n",
       "      <td>1.620136</td>\n",
       "      <td>1.619136</td>\n",
       "      <td>1.618261</td>\n",
       "      <td>1.617626</td>\n",
       "      <td>1.617336</td>\n",
       "      <td>1.616960</td>\n",
       "      <td>1.616323</td>\n",
       "      <td>1.615533</td>\n",
       "    </tr>\n",
       "    <tr>\n",
       "      <th>25%</th>\n",
       "      <td>1.547876</td>\n",
       "      <td>1.547897</td>\n",
       "      <td>1.547876</td>\n",
       "      <td>1.548120</td>\n",
       "      <td>1.548768</td>\n",
       "      <td>1.549292</td>\n",
       "      <td>1.549858</td>\n",
       "      <td>1.550620</td>\n",
       "      <td>1.551457</td>\n",
       "      <td>1.552251</td>\n",
       "      <td>...</td>\n",
       "      <td>1.691107</td>\n",
       "      <td>1.690379</td>\n",
       "      <td>1.689496</td>\n",
       "      <td>1.688660</td>\n",
       "      <td>1.688215</td>\n",
       "      <td>1.686961</td>\n",
       "      <td>1.687218</td>\n",
       "      <td>1.687901</td>\n",
       "      <td>1.688967</td>\n",
       "      <td>1.689142</td>\n",
       "    </tr>\n",
       "    <tr>\n",
       "      <th>50%</th>\n",
       "      <td>1.599222</td>\n",
       "      <td>1.598992</td>\n",
       "      <td>1.598637</td>\n",
       "      <td>1.598435</td>\n",
       "      <td>1.598456</td>\n",
       "      <td>1.598785</td>\n",
       "      <td>1.599355</td>\n",
       "      <td>1.600049</td>\n",
       "      <td>1.600716</td>\n",
       "      <td>1.601248</td>\n",
       "      <td>...</td>\n",
       "      <td>1.716882</td>\n",
       "      <td>1.717468</td>\n",
       "      <td>1.716594</td>\n",
       "      <td>1.714821</td>\n",
       "      <td>1.713058</td>\n",
       "      <td>1.711590</td>\n",
       "      <td>1.711572</td>\n",
       "      <td>1.713451</td>\n",
       "      <td>1.715692</td>\n",
       "      <td>1.717214</td>\n",
       "    </tr>\n",
       "    <tr>\n",
       "      <th>75%</th>\n",
       "      <td>1.672791</td>\n",
       "      <td>1.672175</td>\n",
       "      <td>1.671846</td>\n",
       "      <td>1.671473</td>\n",
       "      <td>1.671769</td>\n",
       "      <td>1.672541</td>\n",
       "      <td>1.673234</td>\n",
       "      <td>1.673853</td>\n",
       "      <td>1.674445</td>\n",
       "      <td>1.675040</td>\n",
       "      <td>...</td>\n",
       "      <td>1.780241</td>\n",
       "      <td>1.780002</td>\n",
       "      <td>1.779050</td>\n",
       "      <td>1.777880</td>\n",
       "      <td>1.776396</td>\n",
       "      <td>1.774930</td>\n",
       "      <td>1.774930</td>\n",
       "      <td>1.776141</td>\n",
       "      <td>1.779029</td>\n",
       "      <td>1.780122</td>\n",
       "    </tr>\n",
       "    <tr>\n",
       "      <th>max</th>\n",
       "      <td>1.731532</td>\n",
       "      <td>1.731063</td>\n",
       "      <td>1.731853</td>\n",
       "      <td>1.732675</td>\n",
       "      <td>1.733417</td>\n",
       "      <td>1.734014</td>\n",
       "      <td>1.734535</td>\n",
       "      <td>1.734994</td>\n",
       "      <td>1.735450</td>\n",
       "      <td>1.735934</td>\n",
       "      <td>...</td>\n",
       "      <td>1.836458</td>\n",
       "      <td>1.837473</td>\n",
       "      <td>1.836513</td>\n",
       "      <td>1.834345</td>\n",
       "      <td>1.832236</td>\n",
       "      <td>1.830105</td>\n",
       "      <td>1.830620</td>\n",
       "      <td>1.833313</td>\n",
       "      <td>1.836777</td>\n",
       "      <td>1.838862</td>\n",
       "    </tr>\n",
       "  </tbody>\n",
       "</table>\n",
       "<p>8 rows × 331 columns</p>\n",
       "</div>"
      ],
      "text/plain": [
       "              740         741         742         743         744         745  \\\n",
       "count  500.000000  500.000000  500.000000  500.000000  500.000000  500.000000   \n",
       "mean     1.615311    1.615358    1.615364    1.615469    1.615742    1.616217   \n",
       "std      0.068293    0.068294    0.068297    0.068287    0.068257    0.068204   \n",
       "min      1.468954    1.469210    1.469254    1.469459    1.469966    1.470832   \n",
       "25%      1.547876    1.547897    1.547876    1.548120    1.548768    1.549292   \n",
       "50%      1.599222    1.598992    1.598637    1.598435    1.598456    1.598785   \n",
       "75%      1.672791    1.672175    1.671846    1.671473    1.671769    1.672541   \n",
       "max      1.731532    1.731063    1.731853    1.732675    1.733417    1.734014   \n",
       "\n",
       "              746         747         748         749  ...        1061  \\\n",
       "count  500.000000  500.000000  500.000000  500.000000  ...  500.000000   \n",
       "mean     1.616822    1.617500    1.618164    1.618746  ...    1.732780   \n",
       "std      0.068142    0.068082    0.068033    0.067994  ...    0.053045   \n",
       "min      1.471834    1.472807    1.473594    1.474135  ...    1.621015   \n",
       "25%      1.549858    1.550620    1.551457    1.552251  ...    1.691107   \n",
       "50%      1.599355    1.600049    1.600716    1.601248  ...    1.716882   \n",
       "75%      1.673234    1.673853    1.674445    1.675040  ...    1.780241   \n",
       "max      1.734535    1.734994    1.735450    1.735934  ...    1.836458   \n",
       "\n",
       "             1062        1063        1064        1065        1066        1067  \\\n",
       "count  500.000000  500.000000  500.000000  500.000000  500.000000  500.000000   \n",
       "mean     1.732817    1.731917    1.730594    1.729484    1.728516    1.728721   \n",
       "std      0.053228    0.053172    0.052946    0.052725    0.052490    0.052609   \n",
       "min      1.620887    1.620136    1.619136    1.618261    1.617626    1.617336   \n",
       "25%      1.690379    1.689496    1.688660    1.688215    1.686961    1.687218   \n",
       "50%      1.717468    1.716594    1.714821    1.713058    1.711590    1.711572   \n",
       "75%      1.780002    1.779050    1.777880    1.776396    1.774930    1.774930   \n",
       "max      1.837473    1.836513    1.834345    1.832236    1.830105    1.830620   \n",
       "\n",
       "             1068        1069        1070  \n",
       "count  500.000000  500.000000  500.000000  \n",
       "mean     1.729712    1.730910    1.731593  \n",
       "std      0.053086    0.053788    0.054312  \n",
       "min      1.616960    1.616323    1.615533  \n",
       "25%      1.687901    1.688967    1.689142  \n",
       "50%      1.713451    1.715692    1.717214  \n",
       "75%      1.776141    1.779029    1.780122  \n",
       "max      1.833313    1.836777    1.838862  \n",
       "\n",
       "[8 rows x 331 columns]"
      ]
     },
     "execution_count": 2,
     "metadata": {},
     "output_type": "execute_result"
    }
   ],
   "source": [
    "df = pd.read_csv('Sorghum.data.csv')\n",
    "print(df.shape)\n",
    "df.describe()"
   ]
  },
  {
   "cell_type": "code",
   "execution_count": 3,
   "metadata": {},
   "outputs": [],
   "source": [
    "df = df.iloc[0:500,:]"
   ]
  },
  {
   "cell_type": "code",
   "execution_count": 5,
   "metadata": {},
   "outputs": [
    {
     "data": {
      "text/plain": [
       "array([6, 8, 7, 9, 3, 4, 2, 1, 0, 5])"
      ]
     },
     "execution_count": 5,
     "metadata": {},
     "output_type": "execute_result"
    }
   ],
   "source": [
    "from sklearn.preprocessing import LabelEncoder\n",
    "labelencoder = LabelEncoder()\n",
    "df.iloc[:, 0] = labelencoder.fit_transform(df.iloc[:, 0])\n",
    "df['Predictor'].unique()\n",
    "#df.head()"
   ]
  },
  {
   "cell_type": "code",
   "execution_count": 12,
   "metadata": {},
   "outputs": [],
   "source": [
    "X = df.iloc[:,1:332].values\n",
    "y = df.iloc[:, 0].values"
   ]
  },
  {
   "cell_type": "code",
   "execution_count": 13,
   "metadata": {},
   "outputs": [
    {
     "data": {
      "text/plain": [
       "array([[1.57888802, 1.57860538, 1.57835766, ..., 1.71292643, 1.71618827,\n",
       "        1.71815724],\n",
       "       [1.72212252, 1.72202257, 1.72188634, ..., 1.82486587, 1.82830539,\n",
       "        1.83037342],\n",
       "       [1.53736635, 1.53755592, 1.53771201, ..., 1.69887134, 1.70213069,\n",
       "        1.7041037 ],\n",
       "       ...,\n",
       "       [1.70362428, 1.70411129, 1.70430637, ..., 1.80770473, 1.81111098,\n",
       "        1.81315884],\n",
       "       [1.56893415, 1.56914363, 1.5691767 , ..., 1.70315837, 1.70639279,\n",
       "        1.70834283],\n",
       "       [1.65673074, 1.65724649, 1.65752398, ..., 1.7758079 , 1.77915837,\n",
       "        1.7811733 ]])"
      ]
     },
     "execution_count": 13,
     "metadata": {},
     "output_type": "execute_result"
    }
   ],
   "source": [
    "X"
   ]
  },
  {
   "cell_type": "code",
   "execution_count": 14,
   "metadata": {},
   "outputs": [
    {
     "data": {
      "text/plain": [
       "array([6, 6, 6, 6, 6, 6, 6, 6, 6, 6, 6, 6, 6, 6, 6, 6, 6, 6, 6, 6, 6, 6,\n",
       "       6, 6, 6, 6, 6, 6, 6, 6, 6, 6, 6, 6, 6, 6, 6, 6, 6, 6, 6, 6, 6, 6,\n",
       "       6, 6, 6, 6, 6, 6, 8, 8, 8, 8, 8, 8, 8, 8, 8, 8, 8, 8, 8, 8, 8, 8,\n",
       "       8, 8, 8, 8, 8, 8, 8, 8, 8, 8, 8, 8, 8, 8, 8, 8, 8, 8, 8, 8, 8, 8,\n",
       "       8, 8, 8, 8, 8, 8, 8, 8, 8, 8, 8, 8, 7, 7, 7, 7, 7, 7, 7, 7, 7, 7,\n",
       "       7, 7, 7, 7, 7, 7, 7, 7, 7, 7, 7, 7, 7, 7, 7, 7, 7, 7, 7, 7, 7, 7,\n",
       "       7, 7, 7, 7, 7, 7, 7, 7, 7, 7, 7, 7, 7, 7, 7, 7, 7, 7, 9, 9, 9, 9,\n",
       "       9, 9, 9, 9, 9, 9, 9, 9, 9, 9, 9, 9, 9, 9, 9, 9, 9, 9, 9, 9, 9, 9,\n",
       "       9, 9, 9, 9, 9, 9, 9, 9, 9, 9, 9, 9, 9, 9, 9, 9, 9, 9, 9, 9, 9, 9,\n",
       "       9, 9, 3, 3, 3, 3, 3, 3, 3, 3, 3, 3, 3, 3, 3, 3, 3, 3, 3, 3, 3, 3,\n",
       "       3, 3, 3, 3, 3, 3, 3, 3, 3, 3, 3, 3, 3, 3, 3, 3, 3, 3, 3, 3, 3, 3,\n",
       "       3, 3, 3, 3, 3, 3, 3, 3, 4, 4, 4, 4, 4, 4, 4, 4, 4, 4, 4, 4, 4, 4,\n",
       "       4, 4, 4, 4, 4, 4, 4, 4, 4, 4, 4, 4, 4, 4, 4, 4, 4, 4, 4, 4, 4, 4,\n",
       "       4, 4, 4, 4, 4, 4, 4, 4, 4, 4, 4, 4, 4, 4, 2, 2, 2, 2, 2, 2, 2, 2,\n",
       "       2, 2, 2, 2, 2, 2, 2, 2, 2, 2, 2, 2, 2, 2, 2, 2, 2, 2, 2, 2, 2, 2,\n",
       "       2, 2, 2, 2, 2, 2, 2, 2, 2, 2, 2, 2, 2, 2, 2, 2, 2, 2, 2, 2, 1, 1,\n",
       "       1, 1, 1, 1, 1, 1, 1, 1, 1, 1, 1, 1, 1, 1, 1, 1, 1, 1, 1, 1, 1, 1,\n",
       "       1, 1, 1, 1, 1, 1, 1, 1, 1, 1, 1, 1, 1, 1, 1, 1, 1, 1, 1, 1, 1, 1,\n",
       "       1, 1, 1, 1, 0, 0, 0, 0, 0, 0, 0, 0, 0, 0, 0, 0, 0, 0, 0, 0, 0, 0,\n",
       "       0, 0, 0, 0, 0, 0, 0, 0, 0, 0, 0, 0, 0, 0, 0, 0, 0, 0, 0, 0, 0, 0,\n",
       "       0, 0, 0, 0, 0, 0, 0, 0, 0, 0, 5, 5, 5, 5, 5, 5, 5, 5, 5, 5, 5, 5,\n",
       "       5, 5, 5, 5, 5, 5, 5, 5, 5, 5, 5, 5, 5, 5, 5, 5, 5, 5, 5, 5, 5, 5,\n",
       "       5, 5, 5, 5, 5, 5, 5, 5, 5, 5, 5, 5, 5, 5, 5, 5])"
      ]
     },
     "execution_count": 14,
     "metadata": {},
     "output_type": "execute_result"
    }
   ],
   "source": [
    "y"
   ]
  },
  {
   "cell_type": "code",
   "execution_count": 16,
   "metadata": {},
   "outputs": [],
   "source": [
    "from sklearn.model_selection import train_test_split\n",
    "X_train, X_test, y_train, y_test = train_test_split(X, y, test_size = 0.25, random_state = 0)\n"
   ]
  },
  {
   "cell_type": "code",
   "execution_count": 19,
   "metadata": {},
   "outputs": [
    {
     "name": "stdout",
     "output_type": "stream",
     "text": [
      "SVC(C=1.0, cache_size=200, class_weight=None, coef0=0.0,\n",
      "  decision_function_shape='ovr', degree=3, gamma='auto_deprecated',\n",
      "  kernel='rbf', max_iter=-1, probability=False, random_state=None,\n",
      "  shrinking=True, tol=0.001, verbose=False)\n"
     ]
    }
   ],
   "source": [
    "from sklearn.svm import SVC\n",
    "model =SVC()\n",
    "print(model)"
   ]
  },
  {
   "cell_type": "code",
   "execution_count": 22,
   "metadata": {},
   "outputs": [
    {
     "name": "stdout",
     "output_type": "stream",
     "text": [
      "model score:: 0.10666666666666667\n",
      "Confusion Matrix\n",
      "[[ 0  0  0  0  0  0  0  0 13  0]\n",
      " [ 0  0  0  0  0  0  0  0 13  0]\n",
      " [ 0  0  0  0  0  0  0  0 15  0]\n",
      " [ 0  0  0  0  0  0  0  0 15  0]\n",
      " [ 0  0  0  0  0  0  0  0 11  0]\n",
      " [ 0  0  0  0  0  0  0  0 11  0]\n",
      " [ 0  0  0  0  0  0  0  0 12  0]\n",
      " [ 0  0  0  0  0  0  0  0 12  0]\n",
      " [ 0  0  0  0  0  0  0  0 10  0]\n",
      " [ 0  0  0  0  0  0  0  0 13  0]]\n"
     ]
    },
    {
     "name": "stderr",
     "output_type": "stream",
     "text": [
      "/Users/jagruti/Desktop/anaconda3/lib/python3.7/site-packages/sklearn/svm/base.py:196: FutureWarning: The default value of gamma will change from 'auto' to 'scale' in version 0.22 to account better for unscaled features. Set gamma explicitly to 'auto' or 'scale' to avoid this warning.\n",
      "  \"avoid this warning.\", FutureWarning)\n"
     ]
    }
   ],
   "source": [
    "from sklearn import preprocessing\n",
    "from sklearn import utils\n",
    "\n",
    "model = model.fit(X_train,y_train )\n",
    "ms = model.score(X_train,y_train)\n",
    "print(\"model score::\",ms)\n",
    "\n",
    "print(\"Confusion Matrix\")\n",
    "predicted = model.predict(X_test)\n",
    "print(metrics.confusion_matrix(y_test , predicted))"
   ]
  },
  {
   "cell_type": "code",
   "execution_count": 23,
   "metadata": {},
   "outputs": [
    {
     "name": "stderr",
     "output_type": "stream",
     "text": [
      "/Users/jagruti/Desktop/anaconda3/lib/python3.7/site-packages/sklearn/svm/base.py:196: FutureWarning: The default value of gamma will change from 'auto' to 'scale' in version 0.22 to account better for unscaled features. Set gamma explicitly to 'auto' or 'scale' to avoid this warning.\n",
      "  \"avoid this warning.\", FutureWarning)\n",
      "/Users/jagruti/Desktop/anaconda3/lib/python3.7/site-packages/sklearn/metrics/classification.py:1143: UndefinedMetricWarning: Precision and F-score are ill-defined and being set to 0.0 in labels with no predicted samples.\n",
      "  'precision', 'predicted', average, warn_for)\n"
     ]
    },
    {
     "name": "stdout",
     "output_type": "stream",
     "text": [
      "model score:: 0.10666666666666667\n",
      "              precision    recall  f1-score   support\n",
      "\n",
      "           0       0.00      0.00      0.00        13\n",
      "           1       0.00      0.00      0.00        13\n",
      "           2       0.00      0.00      0.00        15\n",
      "           3       0.00      0.00      0.00        15\n",
      "           4       0.00      0.00      0.00        11\n",
      "           5       0.00      0.00      0.00        11\n",
      "           6       0.00      0.00      0.00        12\n",
      "           7       0.00      0.00      0.00        12\n",
      "           8       0.08      1.00      0.15        10\n",
      "           9       0.00      0.00      0.00        13\n",
      "\n",
      "   micro avg       0.08      0.08      0.08       125\n",
      "   macro avg       0.01      0.10      0.01       125\n",
      "weighted avg       0.01      0.08      0.01       125\n",
      "\n"
     ]
    },
    {
     "name": "stderr",
     "output_type": "stream",
     "text": [
      "/Users/jagruti/Desktop/anaconda3/lib/python3.7/site-packages/sklearn/metrics/classification.py:1143: UndefinedMetricWarning: Precision and F-score are ill-defined and being set to 0.0 in labels with no predicted samples.\n",
      "  'precision', 'predicted', average, warn_for)\n",
      "/Users/jagruti/Desktop/anaconda3/lib/python3.7/site-packages/sklearn/metrics/classification.py:1143: UndefinedMetricWarning: Precision and F-score are ill-defined and being set to 0.0 in labels with no predicted samples.\n",
      "  'precision', 'predicted', average, warn_for)\n"
     ]
    }
   ],
   "source": [
    "model.fit(X_train,y_train)\n",
    "ms = model.score(X_train,y_train)\n",
    "print(\"model score::\",ms)\n",
    "pred = model.predict(X_test)\n",
    "\n",
    "from sklearn.metrics import classification_report,confusion_matrix\n",
    "\n",
    "print(classification_report(y_test,pred))"
   ]
  },
  {
   "cell_type": "code",
   "execution_count": 24,
   "metadata": {},
   "outputs": [
    {
     "name": "stdout",
     "output_type": "stream",
     "text": [
      "[[ 0  0  0  0  0  0  0  0 13  0]\n",
      " [ 0  0  0  0  0  0  0  0 13  0]\n",
      " [ 0  0  0  0  0  0  0  0 15  0]\n",
      " [ 0  0  0  0  0  0  0  0 15  0]\n",
      " [ 0  0  0  0  0  0  0  0 11  0]\n",
      " [ 0  0  0  0  0  0  0  0 11  0]\n",
      " [ 0  0  0  0  0  0  0  0 12  0]\n",
      " [ 0  0  0  0  0  0  0  0 12  0]\n",
      " [ 0  0  0  0  0  0  0  0 10  0]\n",
      " [ 0  0  0  0  0  0  0  0 13  0]]\n"
     ]
    },
    {
     "data": {
      "image/png": "[encoded data removed]",
      "text/plain": [
       "<Figure size 360x360 with 2 Axes>"
      ]
     },
     "metadata": {
      "needs_background": "light"
     },
     "output_type": "display_data"
    }
   ],
   "source": [
    "print(confusion_matrix(y_test,pred))\n",
    "import matplotlib.pyplot as plt\n",
    "import seaborn as sns\n",
    "from sklearn import metrics\n",
    "\n",
    "cm = confusion_matrix(y_test , pred)\n",
    "\n",
    "plt.figure(figsize=(5,5))\n",
    "sns.heatmap(cm, annot=True, fmt=\".0f\", linewidths=.8, square = True, cmap = 'rainbow_r');\n",
    "plt.ylabel('Actual label');\n",
    "plt.xlabel('Predicted label');\n",
    "\n",
    "all_sample_title = 'Accuracy Score:{:0.3f}'.format(ms)\n",
    "plt.title(all_sample_title, size = 15);"
   ]
  },
  {
   "cell_type": "code",
   "execution_count": null,
   "metadata": {},
   "outputs": [],
   "source": []
  },
  {
   "cell_type": "code",
   "execution_count": null,
   "metadata": {},
   "outputs": [],
   "source": []
  }
 ],
 "metadata": {
  "kernelspec": {
   "display_name": "Python 3",
   "language": "python",
   "name": "python3"
  },
  "language_info": {
   "codemirror_mode": {
    "name": "ipython",
    "version": 3
   },
   "file_extension": ".py",
   "mimetype": "text/x-python",
   "name": "python",
   "nbconvert_exporter": "python",
   "pygments_lexer": "ipython3",
   "version": "3.7.3"
  }
 },
 "nbformat": 4,
 "nbformat_minor": 2
}
